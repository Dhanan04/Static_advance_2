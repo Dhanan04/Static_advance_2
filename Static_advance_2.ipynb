{
 "cells": [
  {
   "cell_type": "markdown",
   "id": "f3ecefdb",
   "metadata": {},
   "source": [
    "#Ans1.)\n",
    "\n",
    "Probability Mass Function (PMF): In probability theory and statistics, the probability mass function (PMF) gives the probability that a discrete random variable is exactly equal to some value. It maps each possible value of a discrete random variable to its probability of occurrence.\n",
    "\n",
    "Example: Consider rolling a fair six-sided die. The PMF of the outcome of rolling the die is:\n",
    "\n",
    "PMF(1) = PMF(2) = PMF(3) = PMF(4) = PMF(5) = PMF(6) = 1/6, because each outcome has an equal chance of occurring.\n",
    "\n",
    "Probability Density Function (PDF): In contrast to the PMF, which is used for discrete random variables, the probability density function (PDF) is used for continuous random variables. The PDF represents the likelihood of a continuous random variable falling within a particular range of values, rather than at a specific point.\n",
    "\n",
    "Example: The PDF of a continuous uniform distribution over the interval [a, b] is given by:\n",
    "\n",
    "PDF(x) = 1 / (b - a), for a ≤ x ≤ b, and PDF(x) = 0 otherwise."
   ]
  },
  {
   "cell_type": "code",
   "execution_count": null,
   "id": "068b0a73",
   "metadata": {},
   "outputs": [],
   "source": []
  },
  {
   "cell_type": "markdown",
   "id": "6d0f0f14",
   "metadata": {},
   "source": [
    "#Ans2.)\n",
    "\n",
    "Cumulative Density Function (CDF): The cumulative distribution function (CDF) gives the probability that a random variable X will take on a value less than or equal to x, for any real number x. It provides a complete description of the probability distribution of a random variable by summing up the probabilities of all possible outcomes up to a certain value x.\n",
    "\n",
    "Example: Consider the CDF of a discrete random variable X with PMF P(X = x). The CDF is given by:\n",
    "\n",
    "CDF(x) = P(X ≤ x) = Σ P(X = x), for all x.\n",
    "\n",
    "The CDF is used to determine the probability that X lies within a specified range, as well as to calculate percentiles and other statistical measures"
   ]
  },
  {
   "cell_type": "code",
   "execution_count": null,
   "id": "f891f8d7",
   "metadata": {},
   "outputs": [],
   "source": []
  },
  {
   "cell_type": "markdown",
   "id": "216c38e9",
   "metadata": {},
   "source": [
    "#Ans3.)\n",
    "\n",
    "Examples of situations for normal distribution:\n",
    "\n",
    "Heights of adult humans\n",
    "IQ scores of a population\n",
    "Errors in measurements or observations\n",
    "The parameters of the normal distribution are the mean (μ) and the standard deviation (σ).\n",
    "\n",
    "The mean (μ) determines the center of the distribution.\n",
    "The standard deviation (σ) determines the spread or width of the distribution. A larger standard deviation indicates a wider distribution, while a smaller standard deviation indicates a narrower distribution."
   ]
  },
  {
   "cell_type": "code",
   "execution_count": null,
   "id": "26712fec",
   "metadata": {},
   "outputs": [],
   "source": []
  },
  {
   "cell_type": "markdown",
   "id": "21a94cec",
   "metadata": {},
   "source": [
    "#Ans4.)\n",
    "\n",
    "Importance of Normal Distribution:\n",
    "\n",
    "The normal distribution is one of the most important probability distributions in statistics due to its mathematical properties and wide applicability.\n",
    "It is often used in statistical modeling, hypothesis testing, and estimation.\n",
    "Many natural phenomena and human characteristics, such as height, weight, and test scores, tend to follow a normal distribution.\n",
    "The Central Limit Theorem states that the distribution of the sample means approaches a normal distribution as the sample size increases, making it essential for inferential statistics.\n",
    "Real-life examples:\n",
    "\n",
    "IQ scores of a population\n",
    "Heights of adult humans\n",
    "Errors in measurements or observations"
   ]
  },
  {
   "cell_type": "code",
   "execution_count": null,
   "id": "ac00ac29",
   "metadata": {},
   "outputs": [],
   "source": []
  },
  {
   "cell_type": "markdown",
   "id": "aad5b713",
   "metadata": {},
   "source": [
    "#Ans5.)\n",
    "\n",
    "Bernoulli Distribution: The Bernoulli distribution models a single experiment with two possible outcomes: success or failure. It is characterized by a single parameter, p, which represents the probability of success.\n",
    "\n",
    "Example:\n",
    "\n",
    "Tossing a fair coin, where success (1) represents getting heads and failure (0) represents getting tails. Here, p = 0.5.\n",
    "A single trial of a binary experiment, such as whether a randomly selected student passes (success) or fails (failure) an exam.\n",
    "Difference between Bernoulli and Binomial Distribution:\n",
    "\n",
    "Bernoulli Distribution is a special case of the Binomial Distribution where there is only one trial (n=1). It deals with a single binary experiment.\n",
    "Binomial Distribution deals with multiple independent Bernoulli trials, each with the same probability of success (p), and counts the number of successes in a fixed number of trials (n).\n",
    "\n",
    "\n",
    "\n",
    "\n",
    "\n"
   ]
  },
  {
   "cell_type": "code",
   "execution_count": null,
   "id": "0854736e",
   "metadata": {},
   "outputs": [],
   "source": []
  },
  {
   "cell_type": "markdown",
   "id": "73286e99",
   "metadata": {},
   "source": [
    "#Ans6.)\n",
    "\n",
    "To find the probability that a randomly selected observation from a normally distributed dataset with a mean of 50 and a standard deviation of 10 will be greater than 60, we can use the Z-score formula and standard normal distribution table"
   ]
  },
  {
   "cell_type": "code",
   "execution_count": null,
   "id": "9264ee53",
   "metadata": {},
   "outputs": [],
   "source": []
  },
  {
   "cell_type": "markdown",
   "id": "e3f1c223",
   "metadata": {},
   "source": [
    "#Ans7.)\n",
    "\n",
    "Uniform Distribution: The uniform distribution is a probability distribution where all outcomes are equally likely. It is characterized by a constant probability density function (PDF) within a specified range.\n",
    "\n",
    "Example: Rolling a fair six-sided die. Each outcome (1, 2, 3, 4, 5, or 6) has the same probability of occurring, which is 1/6"
   ]
  },
  {
   "cell_type": "code",
   "execution_count": null,
   "id": "d1aa493d",
   "metadata": {},
   "outputs": [],
   "source": []
  },
  {
   "cell_type": "markdown",
   "id": "df413c54",
   "metadata": {},
   "source": [
    "#Ans8.)\n",
    "\n",
    "Z-score: The Z-score (standard score) measures the number of standard deviations a data point is from the mean of the dataset. It is calculated by subtracting the mean from the data point and dividing the result by the standard deviation. The Z-score allows us to compare data points from different normal distributions on a common scale.\n",
    "\n",
    "Importance of Z-score:\n",
    "\n",
    "Standardizing data: Allows comparison of values from different datasets or variables.\n",
    "Identifying outliers: Data points with Z-scores significantly higher or lower than the mean may indicate outliers.\n",
    "Hypothesis testing: Z-scores are used in hypothesis testing to determine the significance of results."
   ]
  },
  {
   "cell_type": "code",
   "execution_count": null,
   "id": "5f5cf121",
   "metadata": {},
   "outputs": [],
   "source": []
  },
  {
   "cell_type": "markdown",
   "id": "9f54bc3c",
   "metadata": {},
   "source": [
    "#An9.)\n",
    "\n",
    "Central Limit Theorem (CLT): The Central Limit Theorem states that the distribution of the sample mean of a large enough sample size (n) from any population with a finite mean and variance will be approximately normally distributed, regardless of the shape of the original population distribution. This holds true even if the population distribution is not normally distributed.\n",
    "\n",
    "Significance of CLT:\n",
    "\n",
    "Allows for the use of normal distribution-based statistical methods in situations where the underlying population distribution is unknown or non-normal.\n",
    "Forms the basis for many statistical techniques, such as confidence intervals and hypothesis testing.\n",
    "Provides a theoretical justification for inferential statistics and sampling methods."
   ]
  },
  {
   "cell_type": "code",
   "execution_count": null,
   "id": "cafdc261",
   "metadata": {},
   "outputs": [],
   "source": []
  },
  {
   "cell_type": "markdown",
   "id": "87b05c2a",
   "metadata": {},
   "source": [
    "#Ans10.)\n",
    "\n",
    "Assumptions of Central Limit Theorem:\n",
    "Independence: The observations in the sample must be independent of each other. This means that the occurrence of one observation does not affect the occurrence of another.\n",
    "Sample Size: The sample size (n) should be sufficiently large. While there is no strict rule for what constitutes a \"sufficiently large\" sample size, a commonly used guideline is n ≥ 30.\n",
    "Population Distribution: The population from which the sample is drawn should have a finite mean (μ) and a finite variance (σ²)."
   ]
  },
  {
   "cell_type": "code",
   "execution_count": null,
   "id": "23c084da",
   "metadata": {},
   "outputs": [],
   "source": []
  }
 ],
 "metadata": {
  "kernelspec": {
   "display_name": "Python 3 (ipykernel)",
   "language": "python",
   "name": "python3"
  },
  "language_info": {
   "codemirror_mode": {
    "name": "ipython",
    "version": 3
   },
   "file_extension": ".py",
   "mimetype": "text/x-python",
   "name": "python",
   "nbconvert_exporter": "python",
   "pygments_lexer": "ipython3",
   "version": "3.11.4"
  }
 },
 "nbformat": 4,
 "nbformat_minor": 5
}
